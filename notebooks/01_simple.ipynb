{
 "cells": [
  {
   "cell_type": "markdown",
   "id": "757308b5-f2e3-44eb-a4d2-44196e02ed18",
   "metadata": {},
   "source": [
    "# xSIT Models\n",
    "\n",
    "In this notebook, we will consider examples of applying set-input models to an artificially generated regression dataset.\n",
    "\n",
    "The main idea of artificial generation is as follows: each feature of the regression dataset example is mapped to a separate instance, and the group (bag) consists of all instances corresponding to the features.\n",
    "\n",
    "Such an example allows, in addition to assessing the accuracy on regression problems (in general, without Multiple Instance Regression assumptions),\n",
    "to consider an example of interpreting the Grad-SIT model."
   ]
  },
  {
   "cell_type": "code",
   "execution_count": 1,
   "id": "913bd83c-4b5a-4d37-abdc-6968cf0f82f2",
   "metadata": {},
   "outputs": [],
   "source": [
    "import numpy as np\n",
    "import pandas as pd\n",
    "from matplotlib import pyplot as plt"
   ]
  },
  {
   "cell_type": "code",
   "execution_count": 2,
   "id": "633a76e9-7388-4f95-ad11-450667b2e338",
   "metadata": {},
   "outputs": [],
   "source": [
    "from sklearn.datasets import make_friedman1\n",
    "from sklearn.model_selection import train_test_split\n",
    "from sklearn.metrics import r2_score\n",
    "from sklearn.ensemble import GradientBoostingRegressor"
   ]
  },
  {
   "cell_type": "code",
   "execution_count": 3,
   "id": "5276dbc9-e855-473f-ae5a-3041495eab21",
   "metadata": {},
   "outputs": [],
   "source": [
    "from sit.mil.data import MILData\n",
    "from sit.dataset.gen import FeaturesAsInstancesDataGen"
   ]
  },
  {
   "cell_type": "code",
   "execution_count": 4,
   "id": "5898714f-cc56-42fe-b4b2-5597059fe3bb",
   "metadata": {},
   "outputs": [],
   "source": [
    "orig_X, orig_y = make_friedman1(n_samples=400, n_features=8, random_state=1234)"
   ]
  },
  {
   "cell_type": "markdown",
   "id": "ec376059-eec3-4678-8e6c-84983f645849",
   "metadata": {},
   "source": [
    "### Generate set-input dataset from classical regression one"
   ]
  },
  {
   "cell_type": "code",
   "execution_count": 5,
   "id": "495f3efb-93ed-4aab-abea-2dcaf433d02e",
   "metadata": {},
   "outputs": [],
   "source": [
    "mil_data = FeaturesAsInstancesDataGen(index_features='one_hot').make(orig_X, orig_y)"
   ]
  },
  {
   "cell_type": "code",
   "execution_count": 6,
   "id": "733b143c-c387-4487-9abb-b6999ac743ae",
   "metadata": {},
   "outputs": [],
   "source": [
    "train_idx, test_idx = train_test_split(np.arange(len(mil_data)), test_size=0.5, random_state=12345)\n",
    "mil_data_train, mil_data_test = mil_data[train_idx], mil_data[test_idx]"
   ]
  },
  {
   "cell_type": "markdown",
   "id": "dbf642be-ffcf-4441-8e6a-0a1c7a263f20",
   "metadata": {},
   "source": [
    "GBM performance on the original dataset (as a reference):"
   ]
  },
  {
   "cell_type": "code",
   "execution_count": 7,
   "id": "be79ae65-9cf0-478b-b303-56d106b26e58",
   "metadata": {},
   "outputs": [
    {
     "name": "stdout",
     "output_type": "stream",
     "text": [
      "R2 train 0.9941940669363512 test 0.8906410066457969\n"
     ]
    }
   ],
   "source": [
    "classical_model = GradientBoostingRegressor()\n",
    "classical_model.fit(orig_X[train_idx], orig_y[train_idx])\n",
    "print(\n",
    "    'R2 train', r2_score(orig_y[train_idx], classical_model.predict(orig_X[train_idx])),\n",
    "    'test', r2_score(orig_y[test_idx], classical_model.predict(orig_X[test_idx]))\n",
    ")"
   ]
  },
  {
   "cell_type": "markdown",
   "id": "7f9cd0c3-df75-453c-946a-41bb92b6f4f4",
   "metadata": {},
   "source": [
    "## Set-Input Models"
   ]
  },
  {
   "cell_type": "code",
   "execution_count": 8,
   "id": "e923daec-2b7c-40a8-887c-2a0de3952823",
   "metadata": {},
   "outputs": [],
   "source": [
    "from sit.tree.any_all import AnyAllSetInputTree  # Tree-PA\n",
    "from sit.tree.fraction import FractionSetInputTree  # Tree-Frac\n",
    "from sit.gradtree.grad_boosting import GradBoostingClassifier, GradBoostingRegressor\n",
    "from sit.gradtree.regressor import GradSITRegressor, GradSetForestRegressor"
   ]
  },
  {
   "cell_type": "code",
   "execution_count": 9,
   "id": "5c579574-dd77-4180-ad4b-e5867dbc0626",
   "metadata": {},
   "outputs": [],
   "source": [
    "def print_metrics(predict_fn, mil_data_train, mil_data_test):\n",
    "    print(\n",
    "        'R2 train', r2_score(mil_data_train.y, predict_fn(mil_data_train.X, mil_data_train.group_sizes)),\n",
    "        'test', r2_score(mil_data_test.y, predict_fn(mil_data_test.X, mil_data_test.group_sizes))\n",
    "    )"
   ]
  },
  {
   "cell_type": "markdown",
   "id": "4cae903d-793d-49ce-aa9d-169518096570",
   "metadata": {},
   "source": [
    "### Tree-PA – simple Any/All aggregations"
   ]
  },
  {
   "cell_type": "code",
   "execution_count": 10,
   "id": "9c6e0960-bec6-4fee-9f37-035e503a707e",
   "metadata": {},
   "outputs": [
    {
     "name": "stdout",
     "output_type": "stream",
     "text": [
      "R2 train 0.01376043749617517 test -0.0051906394791210175\n"
     ]
    }
   ],
   "source": [
    "model = AnyAllSetInputTree(\n",
    "    max_depth=7,\n",
    "    extra_rand=True,\n",
    ")\n",
    "model.fit(mil_data_train.X, mil_data_train.y, mil_data_train.group_sizes)\n",
    "print_metrics(model.predict, mil_data_train, mil_data_test)"
   ]
  },
  {
   "cell_type": "markdown",
   "id": "26f62484-2c7b-405c-a237-a64efbd7d379",
   "metadata": {},
   "source": [
    "### Tree-Frac – fraction-based aggregations"
   ]
  },
  {
   "cell_type": "code",
   "execution_count": 11,
   "id": "7f4496fc-e670-440f-aafc-ce660409d6af",
   "metadata": {},
   "outputs": [
    {
     "name": "stdout",
     "output_type": "stream",
     "text": [
      "R2 train 0.5193284334880337 test -0.2557643720836775\n"
     ]
    }
   ],
   "source": [
    "model = FractionSetInputTree(\n",
    "    max_depth=7,\n",
    "    extra_rand=True,\n",
    ")\n",
    "model.fit(mil_data_train.X, mil_data_train.y, mil_data_train.group_sizes)\n",
    "print_metrics(model.predict, mil_data_train, mil_data_test)"
   ]
  },
  {
   "cell_type": "markdown",
   "id": "b8b25453-850e-4d16-af90-b35edf2a67b8",
   "metadata": {},
   "source": [
    "### Grad-Tree – A single gradient tree"
   ]
  },
  {
   "cell_type": "code",
   "execution_count": 12,
   "id": "b17ba0e3-5af2-437a-93eb-3799e4c8a4c4",
   "metadata": {},
   "outputs": [
    {
     "name": "stdout",
     "output_type": "stream",
     "text": [
      "R2 train -0.23743734577193587 test -0.1730044250166065\n"
     ]
    }
   ],
   "source": [
    "model = GradBoostingRegressor(\n",
    "    lam_2=0.001,\n",
    "    lr=1.0,\n",
    "    max_depth=7,\n",
    "    n_estimators=1,\n",
    "    splitter='random',\n",
    "    n_update_iterations=2,\n",
    "    embedding_size=32,\n",
    "    nn_lr=1.e-4,\n",
    "    nn_num_heads=8,\n",
    "    nn_steps=1,\n",
    "    dropout=0.0,\n",
    ")\n",
    "model.fit(mil_data_train.X, mil_data_train.y, mil_data_train.group_sizes)\n",
    "print_metrics(model.predict, mil_data_train, mil_data_test)"
   ]
  },
  {
   "cell_type": "markdown",
   "id": "382ee458-bdfc-407b-b41c-b92712c75858",
   "metadata": {},
   "source": [
    "### Grad-SIT – Gradient tree with bag-level aggregation model"
   ]
  },
  {
   "cell_type": "code",
   "execution_count": 13,
   "id": "5ad1798a-3c92-4dbc-bf40-0f71204ea34f",
   "metadata": {},
   "outputs": [
    {
     "name": "stdout",
     "output_type": "stream",
     "text": [
      "R2 train 0.9298230432485175 test 0.7494123304902884\n"
     ]
    }
   ],
   "source": [
    "model = GradSITRegressor(\n",
    "    lam_2=0.001,\n",
    "    lr=1.0,\n",
    "    max_depth=7,\n",
    "    splitter='random',\n",
    "    n_update_iterations=1,\n",
    "    embedding_size=32,\n",
    "    nn_lr=1.e-4,\n",
    "    nn_num_heads=8,\n",
    "    nn_steps=1,\n",
    "    dropout=0.0,\n",
    ")\n",
    "model.fit(mil_data_train.X, mil_data_train.y, mil_data_train.group_sizes)\n",
    "print_metrics(model.predict, mil_data_train, mil_data_test)"
   ]
  },
  {
   "cell_type": "markdown",
   "id": "099b62d0-9ad1-437c-8209-4fabaec0af7e",
   "metadata": {},
   "source": [
    "### Grad-Tree-Boost – Multiple gradient trees"
   ]
  },
  {
   "cell_type": "code",
   "execution_count": 14,
   "id": "aa394af0-2c4b-4b2c-816b-84055772798d",
   "metadata": {},
   "outputs": [
    {
     "name": "stdout",
     "output_type": "stream",
     "text": [
      "R2 train 0.9064536760307955 test 0.732269361556392\n"
     ]
    }
   ],
   "source": [
    "model = GradBoostingRegressor(\n",
    "    lam_2=0.001,\n",
    "    lr=1.0,\n",
    "    max_depth=3,\n",
    "    n_estimators=50,\n",
    "    splitter='random',\n",
    "    n_update_iterations=2,\n",
    "    embedding_size=32,\n",
    "    nn_lr=1.e-4,\n",
    "    nn_num_heads=8,\n",
    "    nn_steps=1,\n",
    "    dropout=0.0,\n",
    ")\n",
    "model.fit(mil_data_train.X, mil_data_train.y, mil_data_train.group_sizes)\n",
    "print_metrics(model.predict, mil_data_train, mil_data_test)"
   ]
  },
  {
   "cell_type": "markdown",
   "id": "75594227-5952-4379-ad5d-c16dd4139b6f",
   "metadata": {},
   "source": [
    "### Grad-SIT-Forest – Forest of Grad-SIT"
   ]
  },
  {
   "cell_type": "code",
   "execution_count": 15,
   "id": "9edb6fe0-8a27-4513-b916-5be451ddf132",
   "metadata": {},
   "outputs": [
    {
     "name": "stdout",
     "output_type": "stream",
     "text": [
      "R2 train 0.9286865251953739 test 0.7935216188538339\n"
     ]
    }
   ],
   "source": [
    "model = GradSetForestRegressor(\n",
    "    bootstrap_features=False,\n",
    "    lam_2=0.001,\n",
    "    lr=1.0,\n",
    "    max_depth=7,\n",
    "    splitter='random',\n",
    "    n_update_iterations=1,\n",
    "    embedding_size=32,\n",
    "    nn_lr=1.e-4,\n",
    "    nn_num_heads=8,\n",
    "    nn_steps=1,\n",
    "    dropout=0.0,\n",
    ")\n",
    "model.fit(mil_data_train.X, mil_data_train.y, mil_data_train.group_sizes)\n",
    "print_metrics(model.predict, mil_data_train, mil_data_test)"
   ]
  },
  {
   "cell_type": "markdown",
   "id": "a1cc8bec-6b2d-4edd-9860-757129ffaab9",
   "metadata": {},
   "source": [
    "## Interpretation of Grad-SIT"
   ]
  },
  {
   "cell_type": "markdown",
   "id": "93f8a021-9446-43a4-89f8-67602849ba90",
   "metadata": {},
   "source": [
    "We will use the `shap` package for GBM interpretation"
   ]
  },
  {
   "cell_type": "code",
   "execution_count": 16,
   "id": "435436cd-14d8-4374-9015-98694279c2b0",
   "metadata": {},
   "outputs": [],
   "source": [
    "import shap"
   ]
  },
  {
   "cell_type": "markdown",
   "id": "797ddf76-f20e-4456-b266-d2d8a8030519",
   "metadata": {},
   "source": [
    "Lets construct the Grad-SIT model, as it was done above:"
   ]
  },
  {
   "cell_type": "code",
   "execution_count": 17,
   "id": "bede167d-2668-4eb3-af75-24c98d857446",
   "metadata": {},
   "outputs": [
    {
     "name": "stdout",
     "output_type": "stream",
     "text": [
      "R2 train 0.9298230432485175 test 0.7508191510604094\n"
     ]
    }
   ],
   "source": [
    "model = GradSITRegressor(\n",
    "    lam_2=0.001,\n",
    "    lr=1.0,\n",
    "    max_depth=7,\n",
    "    splitter='random',\n",
    "    n_update_iterations=1,\n",
    "    embedding_size=32,\n",
    "    nn_lr=1.e-4,\n",
    "    nn_num_heads=8,\n",
    "    nn_steps=1,\n",
    "    dropout=0.0,\n",
    ")\n",
    "model.fit(mil_data_train.X, mil_data_train.y, mil_data_train.group_sizes)\n",
    "print_metrics(model.predict, mil_data_train, mil_data_test)"
   ]
  },
  {
   "cell_type": "markdown",
   "id": "30ac0fa5-5107-4acc-bc39-58d9aba9efd3",
   "metadata": {},
   "source": [
    "The model consists of two parts:\n",
    "\n",
    "- Instance-level decision tree, wrapped into `GradientSetInputTreeEmbedder`;\n",
    "- Bag-level prediction model, currently `GradientBoostingRegressor`.\n",
    "\n"
   ]
  },
  {
   "cell_type": "code",
   "execution_count": 18,
   "id": "8032ee1b-8d51-44c1-b4b7-273b0d9680cd",
   "metadata": {},
   "outputs": [
    {
     "data": {
      "text/html": [
       "<style>#sk-container-id-1 {\n",
       "  /* Definition of color scheme common for light and dark mode */\n",
       "  --sklearn-color-text: black;\n",
       "  --sklearn-color-line: gray;\n",
       "  /* Definition of color scheme for unfitted estimators */\n",
       "  --sklearn-color-unfitted-level-0: #fff5e6;\n",
       "  --sklearn-color-unfitted-level-1: #f6e4d2;\n",
       "  --sklearn-color-unfitted-level-2: #ffe0b3;\n",
       "  --sklearn-color-unfitted-level-3: chocolate;\n",
       "  /* Definition of color scheme for fitted estimators */\n",
       "  --sklearn-color-fitted-level-0: #f0f8ff;\n",
       "  --sklearn-color-fitted-level-1: #d4ebff;\n",
       "  --sklearn-color-fitted-level-2: #b3dbfd;\n",
       "  --sklearn-color-fitted-level-3: cornflowerblue;\n",
       "\n",
       "  /* Specific color for light theme */\n",
       "  --sklearn-color-text-on-default-background: var(--sg-text-color, var(--theme-code-foreground, var(--jp-content-font-color1, black)));\n",
       "  --sklearn-color-background: var(--sg-background-color, var(--theme-background, var(--jp-layout-color0, white)));\n",
       "  --sklearn-color-border-box: var(--sg-text-color, var(--theme-code-foreground, var(--jp-content-font-color1, black)));\n",
       "  --sklearn-color-icon: #696969;\n",
       "\n",
       "  @media (prefers-color-scheme: dark) {\n",
       "    /* Redefinition of color scheme for dark theme */\n",
       "    --sklearn-color-text-on-default-background: var(--sg-text-color, var(--theme-code-foreground, var(--jp-content-font-color1, white)));\n",
       "    --sklearn-color-background: var(--sg-background-color, var(--theme-background, var(--jp-layout-color0, #111)));\n",
       "    --sklearn-color-border-box: var(--sg-text-color, var(--theme-code-foreground, var(--jp-content-font-color1, white)));\n",
       "    --sklearn-color-icon: #878787;\n",
       "  }\n",
       "}\n",
       "\n",
       "#sk-container-id-1 {\n",
       "  color: var(--sklearn-color-text);\n",
       "}\n",
       "\n",
       "#sk-container-id-1 pre {\n",
       "  padding: 0;\n",
       "}\n",
       "\n",
       "#sk-container-id-1 input.sk-hidden--visually {\n",
       "  border: 0;\n",
       "  clip: rect(1px 1px 1px 1px);\n",
       "  clip: rect(1px, 1px, 1px, 1px);\n",
       "  height: 1px;\n",
       "  margin: -1px;\n",
       "  overflow: hidden;\n",
       "  padding: 0;\n",
       "  position: absolute;\n",
       "  width: 1px;\n",
       "}\n",
       "\n",
       "#sk-container-id-1 div.sk-dashed-wrapped {\n",
       "  border: 1px dashed var(--sklearn-color-line);\n",
       "  margin: 0 0.4em 0.5em 0.4em;\n",
       "  box-sizing: border-box;\n",
       "  padding-bottom: 0.4em;\n",
       "  background-color: var(--sklearn-color-background);\n",
       "}\n",
       "\n",
       "#sk-container-id-1 div.sk-container {\n",
       "  /* jupyter's `normalize.less` sets `[hidden] { display: none; }`\n",
       "     but bootstrap.min.css set `[hidden] { display: none !important; }`\n",
       "     so we also need the `!important` here to be able to override the\n",
       "     default hidden behavior on the sphinx rendered scikit-learn.org.\n",
       "     See: https://github.com/scikit-learn/scikit-learn/issues/21755 */\n",
       "  display: inline-block !important;\n",
       "  position: relative;\n",
       "}\n",
       "\n",
       "#sk-container-id-1 div.sk-text-repr-fallback {\n",
       "  display: none;\n",
       "}\n",
       "\n",
       "div.sk-parallel-item,\n",
       "div.sk-serial,\n",
       "div.sk-item {\n",
       "  /* draw centered vertical line to link estimators */\n",
       "  background-image: linear-gradient(var(--sklearn-color-text-on-default-background), var(--sklearn-color-text-on-default-background));\n",
       "  background-size: 2px 100%;\n",
       "  background-repeat: no-repeat;\n",
       "  background-position: center center;\n",
       "}\n",
       "\n",
       "/* Parallel-specific style estimator block */\n",
       "\n",
       "#sk-container-id-1 div.sk-parallel-item::after {\n",
       "  content: \"\";\n",
       "  width: 100%;\n",
       "  border-bottom: 2px solid var(--sklearn-color-text-on-default-background);\n",
       "  flex-grow: 1;\n",
       "}\n",
       "\n",
       "#sk-container-id-1 div.sk-parallel {\n",
       "  display: flex;\n",
       "  align-items: stretch;\n",
       "  justify-content: center;\n",
       "  background-color: var(--sklearn-color-background);\n",
       "  position: relative;\n",
       "}\n",
       "\n",
       "#sk-container-id-1 div.sk-parallel-item {\n",
       "  display: flex;\n",
       "  flex-direction: column;\n",
       "}\n",
       "\n",
       "#sk-container-id-1 div.sk-parallel-item:first-child::after {\n",
       "  align-self: flex-end;\n",
       "  width: 50%;\n",
       "}\n",
       "\n",
       "#sk-container-id-1 div.sk-parallel-item:last-child::after {\n",
       "  align-self: flex-start;\n",
       "  width: 50%;\n",
       "}\n",
       "\n",
       "#sk-container-id-1 div.sk-parallel-item:only-child::after {\n",
       "  width: 0;\n",
       "}\n",
       "\n",
       "/* Serial-specific style estimator block */\n",
       "\n",
       "#sk-container-id-1 div.sk-serial {\n",
       "  display: flex;\n",
       "  flex-direction: column;\n",
       "  align-items: center;\n",
       "  background-color: var(--sklearn-color-background);\n",
       "  padding-right: 1em;\n",
       "  padding-left: 1em;\n",
       "}\n",
       "\n",
       "\n",
       "/* Toggleable style: style used for estimator/Pipeline/ColumnTransformer box that is\n",
       "clickable and can be expanded/collapsed.\n",
       "- Pipeline and ColumnTransformer use this feature and define the default style\n",
       "- Estimators will overwrite some part of the style using the `sk-estimator` class\n",
       "*/\n",
       "\n",
       "/* Pipeline and ColumnTransformer style (default) */\n",
       "\n",
       "#sk-container-id-1 div.sk-toggleable {\n",
       "  /* Default theme specific background. It is overwritten whether we have a\n",
       "  specific estimator or a Pipeline/ColumnTransformer */\n",
       "  background-color: var(--sklearn-color-background);\n",
       "}\n",
       "\n",
       "/* Toggleable label */\n",
       "#sk-container-id-1 label.sk-toggleable__label {\n",
       "  cursor: pointer;\n",
       "  display: block;\n",
       "  width: 100%;\n",
       "  margin-bottom: 0;\n",
       "  padding: 0.5em;\n",
       "  box-sizing: border-box;\n",
       "  text-align: center;\n",
       "}\n",
       "\n",
       "#sk-container-id-1 label.sk-toggleable__label-arrow:before {\n",
       "  /* Arrow on the left of the label */\n",
       "  content: \"▸\";\n",
       "  float: left;\n",
       "  margin-right: 0.25em;\n",
       "  color: var(--sklearn-color-icon);\n",
       "}\n",
       "\n",
       "#sk-container-id-1 label.sk-toggleable__label-arrow:hover:before {\n",
       "  color: var(--sklearn-color-text);\n",
       "}\n",
       "\n",
       "/* Toggleable content - dropdown */\n",
       "\n",
       "#sk-container-id-1 div.sk-toggleable__content {\n",
       "  max-height: 0;\n",
       "  max-width: 0;\n",
       "  overflow: hidden;\n",
       "  text-align: left;\n",
       "  /* unfitted */\n",
       "  background-color: var(--sklearn-color-unfitted-level-0);\n",
       "}\n",
       "\n",
       "#sk-container-id-1 div.sk-toggleable__content.fitted {\n",
       "  /* fitted */\n",
       "  background-color: var(--sklearn-color-fitted-level-0);\n",
       "}\n",
       "\n",
       "#sk-container-id-1 div.sk-toggleable__content pre {\n",
       "  margin: 0.2em;\n",
       "  border-radius: 0.25em;\n",
       "  color: var(--sklearn-color-text);\n",
       "  /* unfitted */\n",
       "  background-color: var(--sklearn-color-unfitted-level-0);\n",
       "}\n",
       "\n",
       "#sk-container-id-1 div.sk-toggleable__content.fitted pre {\n",
       "  /* unfitted */\n",
       "  background-color: var(--sklearn-color-fitted-level-0);\n",
       "}\n",
       "\n",
       "#sk-container-id-1 input.sk-toggleable__control:checked~div.sk-toggleable__content {\n",
       "  /* Expand drop-down */\n",
       "  max-height: 200px;\n",
       "  max-width: 100%;\n",
       "  overflow: auto;\n",
       "}\n",
       "\n",
       "#sk-container-id-1 input.sk-toggleable__control:checked~label.sk-toggleable__label-arrow:before {\n",
       "  content: \"▾\";\n",
       "}\n",
       "\n",
       "/* Pipeline/ColumnTransformer-specific style */\n",
       "\n",
       "#sk-container-id-1 div.sk-label input.sk-toggleable__control:checked~label.sk-toggleable__label {\n",
       "  color: var(--sklearn-color-text);\n",
       "  background-color: var(--sklearn-color-unfitted-level-2);\n",
       "}\n",
       "\n",
       "#sk-container-id-1 div.sk-label.fitted input.sk-toggleable__control:checked~label.sk-toggleable__label {\n",
       "  background-color: var(--sklearn-color-fitted-level-2);\n",
       "}\n",
       "\n",
       "/* Estimator-specific style */\n",
       "\n",
       "/* Colorize estimator box */\n",
       "#sk-container-id-1 div.sk-estimator input.sk-toggleable__control:checked~label.sk-toggleable__label {\n",
       "  /* unfitted */\n",
       "  background-color: var(--sklearn-color-unfitted-level-2);\n",
       "}\n",
       "\n",
       "#sk-container-id-1 div.sk-estimator.fitted input.sk-toggleable__control:checked~label.sk-toggleable__label {\n",
       "  /* fitted */\n",
       "  background-color: var(--sklearn-color-fitted-level-2);\n",
       "}\n",
       "\n",
       "#sk-container-id-1 div.sk-label label.sk-toggleable__label,\n",
       "#sk-container-id-1 div.sk-label label {\n",
       "  /* The background is the default theme color */\n",
       "  color: var(--sklearn-color-text-on-default-background);\n",
       "}\n",
       "\n",
       "/* On hover, darken the color of the background */\n",
       "#sk-container-id-1 div.sk-label:hover label.sk-toggleable__label {\n",
       "  color: var(--sklearn-color-text);\n",
       "  background-color: var(--sklearn-color-unfitted-level-2);\n",
       "}\n",
       "\n",
       "/* Label box, darken color on hover, fitted */\n",
       "#sk-container-id-1 div.sk-label.fitted:hover label.sk-toggleable__label.fitted {\n",
       "  color: var(--sklearn-color-text);\n",
       "  background-color: var(--sklearn-color-fitted-level-2);\n",
       "}\n",
       "\n",
       "/* Estimator label */\n",
       "\n",
       "#sk-container-id-1 div.sk-label label {\n",
       "  font-family: monospace;\n",
       "  font-weight: bold;\n",
       "  display: inline-block;\n",
       "  line-height: 1.2em;\n",
       "}\n",
       "\n",
       "#sk-container-id-1 div.sk-label-container {\n",
       "  text-align: center;\n",
       "}\n",
       "\n",
       "/* Estimator-specific */\n",
       "#sk-container-id-1 div.sk-estimator {\n",
       "  font-family: monospace;\n",
       "  border: 1px dotted var(--sklearn-color-border-box);\n",
       "  border-radius: 0.25em;\n",
       "  box-sizing: border-box;\n",
       "  margin-bottom: 0.5em;\n",
       "  /* unfitted */\n",
       "  background-color: var(--sklearn-color-unfitted-level-0);\n",
       "}\n",
       "\n",
       "#sk-container-id-1 div.sk-estimator.fitted {\n",
       "  /* fitted */\n",
       "  background-color: var(--sklearn-color-fitted-level-0);\n",
       "}\n",
       "\n",
       "/* on hover */\n",
       "#sk-container-id-1 div.sk-estimator:hover {\n",
       "  /* unfitted */\n",
       "  background-color: var(--sklearn-color-unfitted-level-2);\n",
       "}\n",
       "\n",
       "#sk-container-id-1 div.sk-estimator.fitted:hover {\n",
       "  /* fitted */\n",
       "  background-color: var(--sklearn-color-fitted-level-2);\n",
       "}\n",
       "\n",
       "/* Specification for estimator info (e.g. \"i\" and \"?\") */\n",
       "\n",
       "/* Common style for \"i\" and \"?\" */\n",
       "\n",
       ".sk-estimator-doc-link,\n",
       "a:link.sk-estimator-doc-link,\n",
       "a:visited.sk-estimator-doc-link {\n",
       "  float: right;\n",
       "  font-size: smaller;\n",
       "  line-height: 1em;\n",
       "  font-family: monospace;\n",
       "  background-color: var(--sklearn-color-background);\n",
       "  border-radius: 1em;\n",
       "  height: 1em;\n",
       "  width: 1em;\n",
       "  text-decoration: none !important;\n",
       "  margin-left: 1ex;\n",
       "  /* unfitted */\n",
       "  border: var(--sklearn-color-unfitted-level-1) 1pt solid;\n",
       "  color: var(--sklearn-color-unfitted-level-1);\n",
       "}\n",
       "\n",
       ".sk-estimator-doc-link.fitted,\n",
       "a:link.sk-estimator-doc-link.fitted,\n",
       "a:visited.sk-estimator-doc-link.fitted {\n",
       "  /* fitted */\n",
       "  border: var(--sklearn-color-fitted-level-1) 1pt solid;\n",
       "  color: var(--sklearn-color-fitted-level-1);\n",
       "}\n",
       "\n",
       "/* On hover */\n",
       "div.sk-estimator:hover .sk-estimator-doc-link:hover,\n",
       ".sk-estimator-doc-link:hover,\n",
       "div.sk-label-container:hover .sk-estimator-doc-link:hover,\n",
       ".sk-estimator-doc-link:hover {\n",
       "  /* unfitted */\n",
       "  background-color: var(--sklearn-color-unfitted-level-3);\n",
       "  color: var(--sklearn-color-background);\n",
       "  text-decoration: none;\n",
       "}\n",
       "\n",
       "div.sk-estimator.fitted:hover .sk-estimator-doc-link.fitted:hover,\n",
       ".sk-estimator-doc-link.fitted:hover,\n",
       "div.sk-label-container:hover .sk-estimator-doc-link.fitted:hover,\n",
       ".sk-estimator-doc-link.fitted:hover {\n",
       "  /* fitted */\n",
       "  background-color: var(--sklearn-color-fitted-level-3);\n",
       "  color: var(--sklearn-color-background);\n",
       "  text-decoration: none;\n",
       "}\n",
       "\n",
       "/* Span, style for the box shown on hovering the info icon */\n",
       ".sk-estimator-doc-link span {\n",
       "  display: none;\n",
       "  z-index: 9999;\n",
       "  position: relative;\n",
       "  font-weight: normal;\n",
       "  right: .2ex;\n",
       "  padding: .5ex;\n",
       "  margin: .5ex;\n",
       "  width: min-content;\n",
       "  min-width: 20ex;\n",
       "  max-width: 50ex;\n",
       "  color: var(--sklearn-color-text);\n",
       "  box-shadow: 2pt 2pt 4pt #999;\n",
       "  /* unfitted */\n",
       "  background: var(--sklearn-color-unfitted-level-0);\n",
       "  border: .5pt solid var(--sklearn-color-unfitted-level-3);\n",
       "}\n",
       "\n",
       ".sk-estimator-doc-link.fitted span {\n",
       "  /* fitted */\n",
       "  background: var(--sklearn-color-fitted-level-0);\n",
       "  border: var(--sklearn-color-fitted-level-3);\n",
       "}\n",
       "\n",
       ".sk-estimator-doc-link:hover span {\n",
       "  display: block;\n",
       "}\n",
       "\n",
       "/* \"?\"-specific style due to the `<a>` HTML tag */\n",
       "\n",
       "#sk-container-id-1 a.estimator_doc_link {\n",
       "  float: right;\n",
       "  font-size: 1rem;\n",
       "  line-height: 1em;\n",
       "  font-family: monospace;\n",
       "  background-color: var(--sklearn-color-background);\n",
       "  border-radius: 1rem;\n",
       "  height: 1rem;\n",
       "  width: 1rem;\n",
       "  text-decoration: none;\n",
       "  /* unfitted */\n",
       "  color: var(--sklearn-color-unfitted-level-1);\n",
       "  border: var(--sklearn-color-unfitted-level-1) 1pt solid;\n",
       "}\n",
       "\n",
       "#sk-container-id-1 a.estimator_doc_link.fitted {\n",
       "  /* fitted */\n",
       "  border: var(--sklearn-color-fitted-level-1) 1pt solid;\n",
       "  color: var(--sklearn-color-fitted-level-1);\n",
       "}\n",
       "\n",
       "/* On hover */\n",
       "#sk-container-id-1 a.estimator_doc_link:hover {\n",
       "  /* unfitted */\n",
       "  background-color: var(--sklearn-color-unfitted-level-3);\n",
       "  color: var(--sklearn-color-background);\n",
       "  text-decoration: none;\n",
       "}\n",
       "\n",
       "#sk-container-id-1 a.estimator_doc_link.fitted:hover {\n",
       "  /* fitted */\n",
       "  background-color: var(--sklearn-color-fitted-level-3);\n",
       "}\n",
       "</style><div id=\"sk-container-id-1\" class=\"sk-top-container\"><div class=\"sk-text-repr-fallback\"><pre>GradientSetInputTreeEmbedder(grad_tree_params={&#x27;dropout&#x27;: 0.0,\n",
       "                                               &#x27;embedding_size&#x27;: 32,\n",
       "                                               &#x27;lam_2&#x27;: 0.001, &#x27;lr&#x27;: 1.0,\n",
       "                                               &#x27;max_depth&#x27;: 7,\n",
       "                                               &#x27;n_update_iterations&#x27;: 1,\n",
       "                                               &#x27;nn_lr&#x27;: 0.0001,\n",
       "                                               &#x27;nn_num_heads&#x27;: 8, &#x27;nn_steps&#x27;: 1,\n",
       "                                               &#x27;splitter&#x27;: &#x27;random&#x27;})</pre><b>In a Jupyter environment, please rerun this cell to show the HTML representation or trust the notebook. <br />On GitHub, the HTML representation is unable to render, please try loading this page with nbviewer.org.</b></div><div class=\"sk-container\" hidden><div class=\"sk-item\"><div class=\"sk-estimator  sk-toggleable\"><input class=\"sk-toggleable__control sk-hidden--visually\" id=\"sk-estimator-id-1\" type=\"checkbox\" checked><label for=\"sk-estimator-id-1\" class=\"sk-toggleable__label  sk-toggleable__label-arrow \">&nbsp;GradientSetInputTreeEmbedder<span class=\"sk-estimator-doc-link \">i<span>Not fitted</span></span></label><div class=\"sk-toggleable__content \"><pre>GradientSetInputTreeEmbedder(grad_tree_params={&#x27;dropout&#x27;: 0.0,\n",
       "                                               &#x27;embedding_size&#x27;: 32,\n",
       "                                               &#x27;lam_2&#x27;: 0.001, &#x27;lr&#x27;: 1.0,\n",
       "                                               &#x27;max_depth&#x27;: 7,\n",
       "                                               &#x27;n_update_iterations&#x27;: 1,\n",
       "                                               &#x27;nn_lr&#x27;: 0.0001,\n",
       "                                               &#x27;nn_num_heads&#x27;: 8, &#x27;nn_steps&#x27;: 1,\n",
       "                                               &#x27;splitter&#x27;: &#x27;random&#x27;})</pre></div> </div></div></div></div>"
      ],
      "text/plain": [
       "GradientSetInputTreeEmbedder(grad_tree_params={'dropout': 0.0,\n",
       "                                               'embedding_size': 32,\n",
       "                                               'lam_2': 0.001, 'lr': 1.0,\n",
       "                                               'max_depth': 7,\n",
       "                                               'n_update_iterations': 1,\n",
       "                                               'nn_lr': 0.0001,\n",
       "                                               'nn_num_heads': 8, 'nn_steps': 1,\n",
       "                                               'splitter': 'random'})"
      ]
     },
     "execution_count": 18,
     "metadata": {},
     "output_type": "execute_result"
    }
   ],
   "source": [
    "model.embedder"
   ]
  },
  {
   "cell_type": "code",
   "execution_count": 19,
   "id": "02473353-b6ee-433b-bd82-743a89e9f7f9",
   "metadata": {},
   "outputs": [
    {
     "data": {
      "text/html": [
       "<style>#sk-container-id-2 {\n",
       "  /* Definition of color scheme common for light and dark mode */\n",
       "  --sklearn-color-text: black;\n",
       "  --sklearn-color-line: gray;\n",
       "  /* Definition of color scheme for unfitted estimators */\n",
       "  --sklearn-color-unfitted-level-0: #fff5e6;\n",
       "  --sklearn-color-unfitted-level-1: #f6e4d2;\n",
       "  --sklearn-color-unfitted-level-2: #ffe0b3;\n",
       "  --sklearn-color-unfitted-level-3: chocolate;\n",
       "  /* Definition of color scheme for fitted estimators */\n",
       "  --sklearn-color-fitted-level-0: #f0f8ff;\n",
       "  --sklearn-color-fitted-level-1: #d4ebff;\n",
       "  --sklearn-color-fitted-level-2: #b3dbfd;\n",
       "  --sklearn-color-fitted-level-3: cornflowerblue;\n",
       "\n",
       "  /* Specific color for light theme */\n",
       "  --sklearn-color-text-on-default-background: var(--sg-text-color, var(--theme-code-foreground, var(--jp-content-font-color1, black)));\n",
       "  --sklearn-color-background: var(--sg-background-color, var(--theme-background, var(--jp-layout-color0, white)));\n",
       "  --sklearn-color-border-box: var(--sg-text-color, var(--theme-code-foreground, var(--jp-content-font-color1, black)));\n",
       "  --sklearn-color-icon: #696969;\n",
       "\n",
       "  @media (prefers-color-scheme: dark) {\n",
       "    /* Redefinition of color scheme for dark theme */\n",
       "    --sklearn-color-text-on-default-background: var(--sg-text-color, var(--theme-code-foreground, var(--jp-content-font-color1, white)));\n",
       "    --sklearn-color-background: var(--sg-background-color, var(--theme-background, var(--jp-layout-color0, #111)));\n",
       "    --sklearn-color-border-box: var(--sg-text-color, var(--theme-code-foreground, var(--jp-content-font-color1, white)));\n",
       "    --sklearn-color-icon: #878787;\n",
       "  }\n",
       "}\n",
       "\n",
       "#sk-container-id-2 {\n",
       "  color: var(--sklearn-color-text);\n",
       "}\n",
       "\n",
       "#sk-container-id-2 pre {\n",
       "  padding: 0;\n",
       "}\n",
       "\n",
       "#sk-container-id-2 input.sk-hidden--visually {\n",
       "  border: 0;\n",
       "  clip: rect(1px 1px 1px 1px);\n",
       "  clip: rect(1px, 1px, 1px, 1px);\n",
       "  height: 1px;\n",
       "  margin: -1px;\n",
       "  overflow: hidden;\n",
       "  padding: 0;\n",
       "  position: absolute;\n",
       "  width: 1px;\n",
       "}\n",
       "\n",
       "#sk-container-id-2 div.sk-dashed-wrapped {\n",
       "  border: 1px dashed var(--sklearn-color-line);\n",
       "  margin: 0 0.4em 0.5em 0.4em;\n",
       "  box-sizing: border-box;\n",
       "  padding-bottom: 0.4em;\n",
       "  background-color: var(--sklearn-color-background);\n",
       "}\n",
       "\n",
       "#sk-container-id-2 div.sk-container {\n",
       "  /* jupyter's `normalize.less` sets `[hidden] { display: none; }`\n",
       "     but bootstrap.min.css set `[hidden] { display: none !important; }`\n",
       "     so we also need the `!important` here to be able to override the\n",
       "     default hidden behavior on the sphinx rendered scikit-learn.org.\n",
       "     See: https://github.com/scikit-learn/scikit-learn/issues/21755 */\n",
       "  display: inline-block !important;\n",
       "  position: relative;\n",
       "}\n",
       "\n",
       "#sk-container-id-2 div.sk-text-repr-fallback {\n",
       "  display: none;\n",
       "}\n",
       "\n",
       "div.sk-parallel-item,\n",
       "div.sk-serial,\n",
       "div.sk-item {\n",
       "  /* draw centered vertical line to link estimators */\n",
       "  background-image: linear-gradient(var(--sklearn-color-text-on-default-background), var(--sklearn-color-text-on-default-background));\n",
       "  background-size: 2px 100%;\n",
       "  background-repeat: no-repeat;\n",
       "  background-position: center center;\n",
       "}\n",
       "\n",
       "/* Parallel-specific style estimator block */\n",
       "\n",
       "#sk-container-id-2 div.sk-parallel-item::after {\n",
       "  content: \"\";\n",
       "  width: 100%;\n",
       "  border-bottom: 2px solid var(--sklearn-color-text-on-default-background);\n",
       "  flex-grow: 1;\n",
       "}\n",
       "\n",
       "#sk-container-id-2 div.sk-parallel {\n",
       "  display: flex;\n",
       "  align-items: stretch;\n",
       "  justify-content: center;\n",
       "  background-color: var(--sklearn-color-background);\n",
       "  position: relative;\n",
       "}\n",
       "\n",
       "#sk-container-id-2 div.sk-parallel-item {\n",
       "  display: flex;\n",
       "  flex-direction: column;\n",
       "}\n",
       "\n",
       "#sk-container-id-2 div.sk-parallel-item:first-child::after {\n",
       "  align-self: flex-end;\n",
       "  width: 50%;\n",
       "}\n",
       "\n",
       "#sk-container-id-2 div.sk-parallel-item:last-child::after {\n",
       "  align-self: flex-start;\n",
       "  width: 50%;\n",
       "}\n",
       "\n",
       "#sk-container-id-2 div.sk-parallel-item:only-child::after {\n",
       "  width: 0;\n",
       "}\n",
       "\n",
       "/* Serial-specific style estimator block */\n",
       "\n",
       "#sk-container-id-2 div.sk-serial {\n",
       "  display: flex;\n",
       "  flex-direction: column;\n",
       "  align-items: center;\n",
       "  background-color: var(--sklearn-color-background);\n",
       "  padding-right: 1em;\n",
       "  padding-left: 1em;\n",
       "}\n",
       "\n",
       "\n",
       "/* Toggleable style: style used for estimator/Pipeline/ColumnTransformer box that is\n",
       "clickable and can be expanded/collapsed.\n",
       "- Pipeline and ColumnTransformer use this feature and define the default style\n",
       "- Estimators will overwrite some part of the style using the `sk-estimator` class\n",
       "*/\n",
       "\n",
       "/* Pipeline and ColumnTransformer style (default) */\n",
       "\n",
       "#sk-container-id-2 div.sk-toggleable {\n",
       "  /* Default theme specific background. It is overwritten whether we have a\n",
       "  specific estimator or a Pipeline/ColumnTransformer */\n",
       "  background-color: var(--sklearn-color-background);\n",
       "}\n",
       "\n",
       "/* Toggleable label */\n",
       "#sk-container-id-2 label.sk-toggleable__label {\n",
       "  cursor: pointer;\n",
       "  display: block;\n",
       "  width: 100%;\n",
       "  margin-bottom: 0;\n",
       "  padding: 0.5em;\n",
       "  box-sizing: border-box;\n",
       "  text-align: center;\n",
       "}\n",
       "\n",
       "#sk-container-id-2 label.sk-toggleable__label-arrow:before {\n",
       "  /* Arrow on the left of the label */\n",
       "  content: \"▸\";\n",
       "  float: left;\n",
       "  margin-right: 0.25em;\n",
       "  color: var(--sklearn-color-icon);\n",
       "}\n",
       "\n",
       "#sk-container-id-2 label.sk-toggleable__label-arrow:hover:before {\n",
       "  color: var(--sklearn-color-text);\n",
       "}\n",
       "\n",
       "/* Toggleable content - dropdown */\n",
       "\n",
       "#sk-container-id-2 div.sk-toggleable__content {\n",
       "  max-height: 0;\n",
       "  max-width: 0;\n",
       "  overflow: hidden;\n",
       "  text-align: left;\n",
       "  /* unfitted */\n",
       "  background-color: var(--sklearn-color-unfitted-level-0);\n",
       "}\n",
       "\n",
       "#sk-container-id-2 div.sk-toggleable__content.fitted {\n",
       "  /* fitted */\n",
       "  background-color: var(--sklearn-color-fitted-level-0);\n",
       "}\n",
       "\n",
       "#sk-container-id-2 div.sk-toggleable__content pre {\n",
       "  margin: 0.2em;\n",
       "  border-radius: 0.25em;\n",
       "  color: var(--sklearn-color-text);\n",
       "  /* unfitted */\n",
       "  background-color: var(--sklearn-color-unfitted-level-0);\n",
       "}\n",
       "\n",
       "#sk-container-id-2 div.sk-toggleable__content.fitted pre {\n",
       "  /* unfitted */\n",
       "  background-color: var(--sklearn-color-fitted-level-0);\n",
       "}\n",
       "\n",
       "#sk-container-id-2 input.sk-toggleable__control:checked~div.sk-toggleable__content {\n",
       "  /* Expand drop-down */\n",
       "  max-height: 200px;\n",
       "  max-width: 100%;\n",
       "  overflow: auto;\n",
       "}\n",
       "\n",
       "#sk-container-id-2 input.sk-toggleable__control:checked~label.sk-toggleable__label-arrow:before {\n",
       "  content: \"▾\";\n",
       "}\n",
       "\n",
       "/* Pipeline/ColumnTransformer-specific style */\n",
       "\n",
       "#sk-container-id-2 div.sk-label input.sk-toggleable__control:checked~label.sk-toggleable__label {\n",
       "  color: var(--sklearn-color-text);\n",
       "  background-color: var(--sklearn-color-unfitted-level-2);\n",
       "}\n",
       "\n",
       "#sk-container-id-2 div.sk-label.fitted input.sk-toggleable__control:checked~label.sk-toggleable__label {\n",
       "  background-color: var(--sklearn-color-fitted-level-2);\n",
       "}\n",
       "\n",
       "/* Estimator-specific style */\n",
       "\n",
       "/* Colorize estimator box */\n",
       "#sk-container-id-2 div.sk-estimator input.sk-toggleable__control:checked~label.sk-toggleable__label {\n",
       "  /* unfitted */\n",
       "  background-color: var(--sklearn-color-unfitted-level-2);\n",
       "}\n",
       "\n",
       "#sk-container-id-2 div.sk-estimator.fitted input.sk-toggleable__control:checked~label.sk-toggleable__label {\n",
       "  /* fitted */\n",
       "  background-color: var(--sklearn-color-fitted-level-2);\n",
       "}\n",
       "\n",
       "#sk-container-id-2 div.sk-label label.sk-toggleable__label,\n",
       "#sk-container-id-2 div.sk-label label {\n",
       "  /* The background is the default theme color */\n",
       "  color: var(--sklearn-color-text-on-default-background);\n",
       "}\n",
       "\n",
       "/* On hover, darken the color of the background */\n",
       "#sk-container-id-2 div.sk-label:hover label.sk-toggleable__label {\n",
       "  color: var(--sklearn-color-text);\n",
       "  background-color: var(--sklearn-color-unfitted-level-2);\n",
       "}\n",
       "\n",
       "/* Label box, darken color on hover, fitted */\n",
       "#sk-container-id-2 div.sk-label.fitted:hover label.sk-toggleable__label.fitted {\n",
       "  color: var(--sklearn-color-text);\n",
       "  background-color: var(--sklearn-color-fitted-level-2);\n",
       "}\n",
       "\n",
       "/* Estimator label */\n",
       "\n",
       "#sk-container-id-2 div.sk-label label {\n",
       "  font-family: monospace;\n",
       "  font-weight: bold;\n",
       "  display: inline-block;\n",
       "  line-height: 1.2em;\n",
       "}\n",
       "\n",
       "#sk-container-id-2 div.sk-label-container {\n",
       "  text-align: center;\n",
       "}\n",
       "\n",
       "/* Estimator-specific */\n",
       "#sk-container-id-2 div.sk-estimator {\n",
       "  font-family: monospace;\n",
       "  border: 1px dotted var(--sklearn-color-border-box);\n",
       "  border-radius: 0.25em;\n",
       "  box-sizing: border-box;\n",
       "  margin-bottom: 0.5em;\n",
       "  /* unfitted */\n",
       "  background-color: var(--sklearn-color-unfitted-level-0);\n",
       "}\n",
       "\n",
       "#sk-container-id-2 div.sk-estimator.fitted {\n",
       "  /* fitted */\n",
       "  background-color: var(--sklearn-color-fitted-level-0);\n",
       "}\n",
       "\n",
       "/* on hover */\n",
       "#sk-container-id-2 div.sk-estimator:hover {\n",
       "  /* unfitted */\n",
       "  background-color: var(--sklearn-color-unfitted-level-2);\n",
       "}\n",
       "\n",
       "#sk-container-id-2 div.sk-estimator.fitted:hover {\n",
       "  /* fitted */\n",
       "  background-color: var(--sklearn-color-fitted-level-2);\n",
       "}\n",
       "\n",
       "/* Specification for estimator info (e.g. \"i\" and \"?\") */\n",
       "\n",
       "/* Common style for \"i\" and \"?\" */\n",
       "\n",
       ".sk-estimator-doc-link,\n",
       "a:link.sk-estimator-doc-link,\n",
       "a:visited.sk-estimator-doc-link {\n",
       "  float: right;\n",
       "  font-size: smaller;\n",
       "  line-height: 1em;\n",
       "  font-family: monospace;\n",
       "  background-color: var(--sklearn-color-background);\n",
       "  border-radius: 1em;\n",
       "  height: 1em;\n",
       "  width: 1em;\n",
       "  text-decoration: none !important;\n",
       "  margin-left: 1ex;\n",
       "  /* unfitted */\n",
       "  border: var(--sklearn-color-unfitted-level-1) 1pt solid;\n",
       "  color: var(--sklearn-color-unfitted-level-1);\n",
       "}\n",
       "\n",
       ".sk-estimator-doc-link.fitted,\n",
       "a:link.sk-estimator-doc-link.fitted,\n",
       "a:visited.sk-estimator-doc-link.fitted {\n",
       "  /* fitted */\n",
       "  border: var(--sklearn-color-fitted-level-1) 1pt solid;\n",
       "  color: var(--sklearn-color-fitted-level-1);\n",
       "}\n",
       "\n",
       "/* On hover */\n",
       "div.sk-estimator:hover .sk-estimator-doc-link:hover,\n",
       ".sk-estimator-doc-link:hover,\n",
       "div.sk-label-container:hover .sk-estimator-doc-link:hover,\n",
       ".sk-estimator-doc-link:hover {\n",
       "  /* unfitted */\n",
       "  background-color: var(--sklearn-color-unfitted-level-3);\n",
       "  color: var(--sklearn-color-background);\n",
       "  text-decoration: none;\n",
       "}\n",
       "\n",
       "div.sk-estimator.fitted:hover .sk-estimator-doc-link.fitted:hover,\n",
       ".sk-estimator-doc-link.fitted:hover,\n",
       "div.sk-label-container:hover .sk-estimator-doc-link.fitted:hover,\n",
       ".sk-estimator-doc-link.fitted:hover {\n",
       "  /* fitted */\n",
       "  background-color: var(--sklearn-color-fitted-level-3);\n",
       "  color: var(--sklearn-color-background);\n",
       "  text-decoration: none;\n",
       "}\n",
       "\n",
       "/* Span, style for the box shown on hovering the info icon */\n",
       ".sk-estimator-doc-link span {\n",
       "  display: none;\n",
       "  z-index: 9999;\n",
       "  position: relative;\n",
       "  font-weight: normal;\n",
       "  right: .2ex;\n",
       "  padding: .5ex;\n",
       "  margin: .5ex;\n",
       "  width: min-content;\n",
       "  min-width: 20ex;\n",
       "  max-width: 50ex;\n",
       "  color: var(--sklearn-color-text);\n",
       "  box-shadow: 2pt 2pt 4pt #999;\n",
       "  /* unfitted */\n",
       "  background: var(--sklearn-color-unfitted-level-0);\n",
       "  border: .5pt solid var(--sklearn-color-unfitted-level-3);\n",
       "}\n",
       "\n",
       ".sk-estimator-doc-link.fitted span {\n",
       "  /* fitted */\n",
       "  background: var(--sklearn-color-fitted-level-0);\n",
       "  border: var(--sklearn-color-fitted-level-3);\n",
       "}\n",
       "\n",
       ".sk-estimator-doc-link:hover span {\n",
       "  display: block;\n",
       "}\n",
       "\n",
       "/* \"?\"-specific style due to the `<a>` HTML tag */\n",
       "\n",
       "#sk-container-id-2 a.estimator_doc_link {\n",
       "  float: right;\n",
       "  font-size: 1rem;\n",
       "  line-height: 1em;\n",
       "  font-family: monospace;\n",
       "  background-color: var(--sklearn-color-background);\n",
       "  border-radius: 1rem;\n",
       "  height: 1rem;\n",
       "  width: 1rem;\n",
       "  text-decoration: none;\n",
       "  /* unfitted */\n",
       "  color: var(--sklearn-color-unfitted-level-1);\n",
       "  border: var(--sklearn-color-unfitted-level-1) 1pt solid;\n",
       "}\n",
       "\n",
       "#sk-container-id-2 a.estimator_doc_link.fitted {\n",
       "  /* fitted */\n",
       "  border: var(--sklearn-color-fitted-level-1) 1pt solid;\n",
       "  color: var(--sklearn-color-fitted-level-1);\n",
       "}\n",
       "\n",
       "/* On hover */\n",
       "#sk-container-id-2 a.estimator_doc_link:hover {\n",
       "  /* unfitted */\n",
       "  background-color: var(--sklearn-color-unfitted-level-3);\n",
       "  color: var(--sklearn-color-background);\n",
       "  text-decoration: none;\n",
       "}\n",
       "\n",
       "#sk-container-id-2 a.estimator_doc_link.fitted:hover {\n",
       "  /* fitted */\n",
       "  background-color: var(--sklearn-color-fitted-level-3);\n",
       "}\n",
       "</style><div id=\"sk-container-id-2\" class=\"sk-top-container\"><div class=\"sk-text-repr-fallback\"><pre>GradientBoostingRegressor()</pre><b>In a Jupyter environment, please rerun this cell to show the HTML representation or trust the notebook. <br />On GitHub, the HTML representation is unable to render, please try loading this page with nbviewer.org.</b></div><div class=\"sk-container\" hidden><div class=\"sk-item\"><div class=\"sk-estimator fitted sk-toggleable\"><input class=\"sk-toggleable__control sk-hidden--visually\" id=\"sk-estimator-id-2\" type=\"checkbox\" checked><label for=\"sk-estimator-id-2\" class=\"sk-toggleable__label fitted sk-toggleable__label-arrow fitted\">&nbsp;&nbsp;GradientBoostingRegressor<a class=\"sk-estimator-doc-link fitted\" rel=\"noreferrer\" target=\"_blank\" href=\"https://scikit-learn.org/1.5/modules/generated/sklearn.ensemble.GradientBoostingRegressor.html\">?<span>Documentation for GradientBoostingRegressor</span></a><span class=\"sk-estimator-doc-link fitted\">i<span>Fitted</span></span></label><div class=\"sk-toggleable__content fitted\"><pre>GradientBoostingRegressor()</pre></div> </div></div></div></div>"
      ],
      "text/plain": [
       "GradientBoostingRegressor()"
      ]
     },
     "execution_count": 19,
     "metadata": {},
     "output_type": "execute_result"
    }
   ],
   "source": [
    "model.bag_gbm"
   ]
  },
  {
   "cell_type": "markdown",
   "id": "4ba3d938-fc60-4d8a-bf43-2e32ab3f4288",
   "metadata": {},
   "source": [
    "Lets pass the training dataset through the embedder:"
   ]
  },
  {
   "cell_type": "code",
   "execution_count": 20,
   "id": "0b1b7286-b094-4be8-91ba-223177451372",
   "metadata": {},
   "outputs": [],
   "source": [
    "embedded_bags_train = model.embedder.transform(mil_data_train.X, mil_data_train.group_sizes)"
   ]
  },
  {
   "cell_type": "code",
   "execution_count": 21,
   "id": "218187ff-2e10-46b6-8b33-d234517cb145",
   "metadata": {},
   "outputs": [],
   "source": [
    "gbm_explainer = shap.TreeExplainer(model.bag_gbm)"
   ]
  },
  {
   "cell_type": "code",
   "execution_count": 22,
   "id": "c938f5b4-8020-42ca-b762-da4bc5dc09e2",
   "metadata": {},
   "outputs": [],
   "source": [
    "ids = np.array([0])\n",
    "embeddings_to_explain = embedded_bags_train[ids]"
   ]
  },
  {
   "cell_type": "code",
   "execution_count": 23,
   "id": "b2c75cd0-55cb-4bf8-a00d-716f98034de8",
   "metadata": {},
   "outputs": [],
   "source": [
    "gbm_explanation_train = gbm_explainer(embeddings_to_explain)"
   ]
  },
  {
   "cell_type": "markdown",
   "id": "7dd5e63f-a742-44df-9f8b-9668d44bd0ac",
   "metadata": {},
   "source": [
    "We can see that there is one explained instance and several features, which correspond to leaves:"
   ]
  },
  {
   "cell_type": "code",
   "execution_count": 24,
   "id": "ea300efa-628e-4f7c-9b6d-bc4b0b76e6bc",
   "metadata": {},
   "outputs": [
    {
     "data": {
      "text/plain": [
       "(1, 61)"
      ]
     },
     "execution_count": 24,
     "metadata": {},
     "output_type": "execute_result"
    }
   ],
   "source": [
    "gbm_explanation_train.values.shape"
   ]
  },
  {
   "cell_type": "code",
   "execution_count": 25,
   "id": "fa2c71e8-4ba1-4aa1-b1c3-1c295d8224fb",
   "metadata": {},
   "outputs": [
    {
     "data": {
      "text/plain": [
       "<BarContainer object of 61 artists>"
      ]
     },
     "execution_count": 25,
     "metadata": {},
     "output_type": "execute_result"
    },
    {
     "data": {
      "image/png": "[encoded data removed]",
      "text/plain": [
       "<Figure size 640x480 with 1 Axes>"
      ]
     },
     "metadata": {},
     "output_type": "display_data"
    }
   ],
   "source": [
    "plt.bar(\n",
    "    np.arange(gbm_explanation_train.values.shape[1]),\n",
    "    gbm_explanation_train.values[0]\n",
    ")"
   ]
  },
  {
   "cell_type": "code",
   "execution_count": 26,
   "id": "997f83da-5627-41da-9544-a96e3b818763",
   "metadata": {},
   "outputs": [
    {
     "data": {
      "text/plain": [
       "(array([11.57625604]), array([11.71487814]))"
      ]
     },
     "execution_count": 26,
     "metadata": {},
     "output_type": "execute_result"
    }
   ],
   "source": [
    "model.bag_gbm.predict(embeddings_to_explain), mil_data_train.y[ids]"
   ]
  },
  {
   "cell_type": "code",
   "execution_count": 27,
   "id": "2ca45f9a-aaa2-4a7e-8ec6-0f39321cb312",
   "metadata": {},
   "outputs": [
    {
     "data": {
      "text/plain": [
       "array([ 60,   7,   8, 100,   7,  80,  95,  67])"
      ]
     },
     "execution_count": 27,
     "metadata": {},
     "output_type": "execute_result"
    }
   ],
   "source": [
    "model.embedder.stnn.estimators_[0].apply(mil_data_train[ids].X)"
   ]
  },
  {
   "cell_type": "code",
   "execution_count": 28,
   "id": "8bebe154-a320-4d38-baed-0ca7c1f6a822",
   "metadata": {},
   "outputs": [
    {
     "data": {
      "text/plain": [
       "array([ 0,  1, 55])"
      ]
     },
     "execution_count": 28,
     "metadata": {},
     "output_type": "execute_result"
    }
   ],
   "source": [
    "np.searchsorted(model.embedder.all_leaves, [7, 8, 110])"
   ]
  },
  {
   "cell_type": "markdown",
   "id": "a71e2404-60ef-41cd-b57f-16312ce1b648",
   "metadata": {},
   "source": [
    "Originally, leaves are numbered not starting from 0, but we can convert the indices:"
   ]
  },
  {
   "cell_type": "code",
   "execution_count": 29,
   "id": "9a5d1c2a-f4c3-43c3-9c34-c82c712fd8ac",
   "metadata": {},
   "outputs": [
    {
     "data": {
      "text/plain": [
       "array([27,  0,  1, 48,  0, 38, 47, 31])"
      ]
     },
     "execution_count": 29,
     "metadata": {},
     "output_type": "execute_result"
    }
   ],
   "source": [
    "active_leaves = np.searchsorted(\n",
    "    model.embedder.all_leaves,\n",
    "    model.embedder.stnn.estimators_[0].apply(mil_data_train[ids].X)\n",
    ")\n",
    "active_leaves"
   ]
  },
  {
   "cell_type": "markdown",
   "id": "eb6e6d28-8e7a-4b35-adf9-7113d2c7fd61",
   "metadata": {},
   "source": [
    "We have used normalization of instance counts in embedding:"
   ]
  },
  {
   "cell_type": "code",
   "execution_count": 30,
   "id": "f4f7be36-2102-4dac-945a-b1b59f68fa40",
   "metadata": {},
   "outputs": [
    {
     "data": {
      "text/plain": [
       "True"
      ]
     },
     "execution_count": 30,
     "metadata": {},
     "output_type": "execute_result"
    }
   ],
   "source": [
    "model.embedder.normalize"
   ]
  },
  {
   "cell_type": "markdown",
   "id": "a594e284-6b85-4322-9f60-472aafa6bfbe",
   "metadata": {},
   "source": [
    "Therefore, we have to divide the impact of $i$-th leaf among all instance, that fell into it:"
   ]
  },
  {
   "cell_type": "code",
   "execution_count": 31,
   "id": "2ba4b761-9e9c-42e6-ad99-54f476fb3e02",
   "metadata": {},
   "outputs": [
    {
     "data": {
      "text/plain": [
       "array([ 3.81771010e-01, -2.42556487e+00,  2.61948468e-01,  1.35330261e-04,\n",
       "       -2.42556487e+00, -1.35743274e-02,  6.60409247e-02,  5.23915116e-03])"
      ]
     },
     "execution_count": 31,
     "metadata": {},
     "output_type": "execute_result"
    }
   ],
   "source": [
    "instance_level_shap_values = gbm_explanation_train.values[0, active_leaves]\n",
    "unique_active_leaves, unique_active_counts = np.unique(active_leaves, return_counts=True)\n",
    "repeat_counts = unique_active_counts[np.searchsorted(unique_active_leaves, active_leaves)]\n",
    "instance_level_shap_values /= repeat_counts\n",
    "instance_level_shap_values"
   ]
  },
  {
   "cell_type": "markdown",
   "id": "f8d95152-7b86-4de9-8fa4-4800988b2322",
   "metadata": {},
   "source": [
    "Bias correction (because not all SHAP values of bag-level model were used):"
   ]
  },
  {
   "cell_type": "code",
   "execution_count": 32,
   "id": "93d169c0-d262-4b48-8914-5622be6e8dd9",
   "metadata": {},
   "outputs": [
    {
     "data": {
      "text/plain": [
       "np.float64(1.1707299507164204)"
      ]
     },
     "execution_count": 32,
     "metadata": {},
     "output_type": "execute_result"
    }
   ],
   "source": [
    "gbm_explanation_train.values.sum() - instance_level_shap_values.sum()"
   ]
  },
  {
   "cell_type": "code",
   "execution_count": 33,
   "id": "e8c6e65d-3549-4274-bfe2-d69685a0e83d",
   "metadata": {},
   "outputs": [
    {
     "data": {
      "text/plain": [
       "<BarContainer object of 8 artists>"
      ]
     },
     "execution_count": 33,
     "metadata": {},
     "output_type": "execute_result"
    },
    {
     "data": {
      "image/png": "[encoded data removed]",
      "text/plain": [
       "<Figure size 640x480 with 1 Axes>"
      ]
     },
     "metadata": {},
     "output_type": "display_data"
    }
   ],
   "source": [
    "plt.bar(np.arange(instance_level_shap_values.shape[-1]), instance_level_shap_values)"
   ]
  },
  {
   "cell_type": "markdown",
   "id": "f77c8819-5561-47af-a4b2-1c8604f1e6d4",
   "metadata": {},
   "source": [
    "*For simplicity we've implemented it for one instance*"
   ]
  },
  {
   "cell_type": "markdown",
   "id": "fbefd6b6-453a-4b3a-9e98-2ef4d9cd379b",
   "metadata": {},
   "source": [
    "Lets compare the interpretation results with the original model (which is not set-input).\n",
    "\n",
    "It can be seen, that our instance contributions correlate well with the feature contributions on the\n",
    "original dataset.\n",
    "The minor differences are caused by different models used, but the signs, ordering and zero\n",
    "contributions of the features $5, 6, 7$ are similar."
   ]
  },
  {
   "cell_type": "code",
   "execution_count": 34,
   "id": "69ca32b5-4223-490b-8645-8064914c0fab",
   "metadata": {},
   "outputs": [
    {
     "data": {
      "text/plain": [
       "<BarContainer object of 8 artists>"
      ]
     },
     "execution_count": 34,
     "metadata": {},
     "output_type": "execute_result"
    },
    {
     "data": {
      "image/png": "[encoded data removed]",
      "text/plain": [
       "<Figure size 640x480 with 1 Axes>"
      ]
     },
     "metadata": {},
     "output_type": "display_data"
    }
   ],
   "source": [
    "classical_shap_values = shap.TreeExplainer(classical_model)(orig_X[train_idx][ids]).values[0]\n",
    "plt.bar(np.arange(classical_shap_values.shape[-1]), classical_shap_values)"
   ]
  },
  {
   "cell_type": "markdown",
   "id": "4d38ae8d-1ebf-4af8-b8f1-d3af8a40a33c",
   "metadata": {},
   "source": [
    "### Decision Paths"
   ]
  },
  {
   "cell_type": "markdown",
   "id": "0a1a78a5-cd8d-495e-ba5f-96473f10887a",
   "metadata": {},
   "source": [
    "Another interpretation approach is to **look at the instance-level tree**"
   ]
  },
  {
   "cell_type": "code",
   "execution_count": 35,
   "id": "bf6a53ba-19b4-44a5-a905-4d2e4054c612",
   "metadata": {},
   "outputs": [],
   "source": [
    "def get_decision_paths(tree):\n",
    "    if tree is None:\n",
    "        return []\n",
    "    \n",
    "    paths = []\n",
    "    stack = [(0, [])]  # Start with root node index 0 and an empty path\n",
    "    \n",
    "    while stack:\n",
    "        node_id, current_path = stack.pop()\n",
    "        \n",
    "        if tree.children_left[node_id] == -1:  # Leaf node\n",
    "            current_path.append((node_id, -1, -1, False))\n",
    "            paths.append(current_path)\n",
    "        else:\n",
    "            feature = int(tree.feature[node_id])\n",
    "            threshold = float(tree.threshold[node_id])\n",
    "            left_child = int(tree.children_left[node_id])\n",
    "            right_child = int(tree.children_right[node_id])\n",
    "            \n",
    "            # Push right child first to process left child first (LIFO)\n",
    "            stack.append((right_child, current_path + [(node_id, feature, threshold, True)]))\n",
    "            stack.append((left_child, current_path + [(node_id, feature, threshold, False)]))\n",
    "    \n",
    "    return paths"
   ]
  },
  {
   "cell_type": "code",
   "execution_count": 36,
   "id": "bed349df-6ed9-4b41-9e35-0609b64f6251",
   "metadata": {},
   "outputs": [],
   "source": [
    "relevant_paths = [\n",
    "    path\n",
    "    for path in get_decision_paths(model.embedder.stnn.estimators_[0].tree_)\n",
    "    # if path[-1][0] in active_leaves\n",
    "]"
   ]
  },
  {
   "cell_type": "code",
   "execution_count": 37,
   "id": "07979712-84e7-4c82-afcc-71a6ecf37fd2",
   "metadata": {},
   "outputs": [],
   "source": [
    "relevant_paths_by_leaves = {\n",
    "    int(np.searchsorted(model.embedder.all_leaves, path[-1][0])): path\n",
    "    for path in relevant_paths\n",
    "}"
   ]
  },
  {
   "cell_type": "markdown",
   "id": "3a819cb5-95dd-4e35-8dfd-f8b1eeb2f749",
   "metadata": {},
   "source": [
    "For each active leaf we consider the instance-level tree path:"
   ]
  },
  {
   "cell_type": "code",
   "execution_count": 38,
   "id": "a5dd8a14-caed-4d8c-90dd-1186f65c2bc5",
   "metadata": {},
   "outputs": [],
   "source": [
    "def summarize_path(path):\n",
    "    bounds = {\n",
    "        n[1]: (-np.inf, np.inf)\n",
    "        for n in path\n",
    "        if n[1] != -1\n",
    "    }\n",
    "    for node in path:\n",
    "        node_id, feature_id, threshold, direction = node\n",
    "        if feature_id == -1:\n",
    "            continue\n",
    "        cur_min, cur_max = bounds[feature_id]\n",
    "        if direction:\n",
    "            bounds[feature_id] = (\n",
    "                max(cur_min, threshold),\n",
    "                cur_max\n",
    "            )\n",
    "        else:\n",
    "            bounds[feature_id] = (\n",
    "                cur_min,\n",
    "                min(cur_max, threshold)\n",
    "            )\n",
    "    return bounds"
   ]
  },
  {
   "cell_type": "code",
   "execution_count": 39,
   "id": "ea669b59-1992-4d3e-9219-af4d841e76ab",
   "metadata": {},
   "outputs": [
    {
     "name": "stdout",
     "output_type": "stream",
     "text": [
      "Leaf 27 shap value = 0.38177100981856893\n",
      "    Summary:\n",
      "    0.556 <= x_0 < inf\n",
      "    -inf <= x_4 < 0.698\n",
      "    -inf <= x_7 < 0.619\n",
      "    -inf <= x_6 < 0.425\n",
      "    -inf <= x_8 < 0.186\n",
      "    -inf <= x_3 < 0.360\n",
      "    -inf <= x_5 < 0.253\n",
      "Leaf 0 shap value = -2.425564873614405\n",
      "    Summary:\n",
      "    -inf <= x_0 < 0.323\n",
      "    -inf <= x_4 < 0.694\n",
      "    -inf <= x_7 < 0.352\n",
      "    -inf <= x_6 < 0.797\n",
      "    -inf <= x_8 < 0.851\n",
      "    -inf <= x_3 < 0.642\n",
      "Leaf 1 shap value = 0.26194846771912833\n",
      "    Summary:\n",
      "    -inf <= x_0 < 0.323\n",
      "    -inf <= x_4 < 0.694\n",
      "    -inf <= x_7 < 0.352\n",
      "    -inf <= x_6 < 0.797\n",
      "    -inf <= x_8 < 0.851\n",
      "    0.642 <= x_3 < inf\n",
      "Leaf 48 shap value = 0.00013533026068743132\n",
      "    Summary:\n",
      "    0.556 <= x_0 < 0.579\n",
      "    0.698 <= x_4 < inf\n",
      "Leaf 0 shap value = -2.425564873614405\n",
      "    Summary:\n",
      "    -inf <= x_0 < 0.323\n",
      "    -inf <= x_4 < 0.694\n",
      "    -inf <= x_7 < 0.352\n",
      "    -inf <= x_6 < 0.797\n",
      "    -inf <= x_8 < 0.851\n",
      "    -inf <= x_3 < 0.642\n",
      "Leaf 38 shap value = -0.013574327390005043\n",
      "    Summary:\n",
      "    0.681 <= x_0 < 0.905\n",
      "    -inf <= x_4 < 0.698\n",
      "    -inf <= x_7 < 0.619\n",
      "    0.425 <= x_6 < inf\n",
      "Leaf 47 shap value = 0.06604092467648319\n",
      "    Summary:\n",
      "    0.912 <= x_0 < inf\n",
      "    -inf <= x_4 < 0.698\n",
      "    0.619 <= x_7 < inf\n",
      "Leaf 31 shap value = 0.005239151156143789\n",
      "    Summary:\n",
      "    0.556 <= x_0 < 0.770\n",
      "    -inf <= x_4 < 0.698\n",
      "    -inf <= x_7 < 0.619\n",
      "    -inf <= x_6 < 0.425\n",
      "    0.186 <= x_8 < inf\n"
     ]
    }
   ],
   "source": [
    "for leaf, value in zip(active_leaves, instance_level_shap_values):\n",
    "    print('Leaf', leaf, 'shap value =', value)\n",
    "    path = relevant_paths_by_leaves[leaf]\n",
    "    print('    Summary:')\n",
    "    for feature_id, bounds in summarize_path(path).items():\n",
    "        print(f'    {bounds[0]:.3f} <= x_{feature_id} < {bounds[1]:.3f}')"
   ]
  },
  {
   "cell_type": "markdown",
   "id": "c7918f38-3ef4-4823-8d82-5bdc7c20e068",
   "metadata": {},
   "source": [
    "In the context of the artificially generated problem, any feature other than 0\n",
    "indicate that the instance corresponds to it.\n",
    "\n",
    "For example, $0 < a \\le x_{i} < \\infty$ means that the instance fature $x_1$ is *activated*\n",
    "and $x_0  < b$ means that $z_{i - 1} < b$."
   ]
  },
  {
   "cell_type": "markdown",
   "id": "98f09a47-8e61-404f-852c-fb6f42885bc1",
   "metadata": {},
   "source": [
    "Lets summarize it automatically for this particular example:"
   ]
  },
  {
   "cell_type": "code",
   "execution_count": 40,
   "id": "958b3cf5-f972-4708-a3c6-c27470dd7f30",
   "metadata": {},
   "outputs": [
    {
     "name": "stdout",
     "output_type": "stream",
     "text": [
      "Leaf 27 shap value = 0.38177100981856893\n",
      "    Summary:\n",
      "    0.556 <= x_0 < inf\n",
      "Leaf 0 shap value = -2.425564873614405\n",
      "    Summary:\n",
      "    -inf <= x_0 < 0.323\n",
      "Leaf 1 shap value = 0.26194846771912833\n",
      "    Summary:\n",
      "    -inf <= x_0 < 0.323\n",
      "    Original feature 2 is activated\n",
      "Leaf 48 shap value = 0.00013533026068743132\n",
      "    Summary:\n",
      "    0.556 <= x_0 < 0.579\n",
      "    Original feature 3 is activated\n",
      "Leaf 0 shap value = -2.425564873614405\n",
      "    Summary:\n",
      "    -inf <= x_0 < 0.323\n",
      "Leaf 38 shap value = -0.013574327390005043\n",
      "    Summary:\n",
      "    0.681 <= x_0 < 0.905\n",
      "    Original feature 5 is activated\n",
      "Leaf 47 shap value = 0.06604092467648319\n",
      "    Summary:\n",
      "    0.912 <= x_0 < inf\n",
      "    Original feature 6 is activated\n",
      "Leaf 31 shap value = 0.005239151156143789\n",
      "    Summary:\n",
      "    0.556 <= x_0 < 0.770\n",
      "    Original feature 7 is activated\n"
     ]
    }
   ],
   "source": [
    "for leaf, value in zip(active_leaves, instance_level_shap_values):\n",
    "    print('Leaf', leaf, 'shap value =', value)\n",
    "    path = relevant_paths_by_leaves[leaf]\n",
    "    print('    Summary:')\n",
    "    for feature_id, bounds in summarize_path(path).items():\n",
    "        if feature_id == 0:\n",
    "            print(f'    {bounds[0]:.3f} <= x_{feature_id} < {bounds[1]:.3f}')\n",
    "        elif bounds[0] != -np.inf:\n",
    "            print(f'    Original feature {feature_id - 1} is activated')\n",
    "        "
   ]
  },
  {
   "cell_type": "markdown",
   "id": "1a78fe28-3c02-4d74-9555-803ea181b12c",
   "metadata": {},
   "source": [
    "As a reference, lets consider the original features, they fully match the predicates found above:"
   ]
  },
  {
   "cell_type": "code",
   "execution_count": 41,
   "id": "0a876827-f3c4-4d38-9a95-d27f23a845e8",
   "metadata": {},
   "outputs": [
    {
     "data": {
      "text/plain": [
       "array([0.99465383, 0.17949787, 0.31754682, 0.5682914 , 0.00934857,\n",
       "       0.90064862, 0.97724143, 0.55689468])"
      ]
     },
     "execution_count": 41,
     "metadata": {},
     "output_type": "execute_result"
    }
   ],
   "source": [
    "orig_X[train_idx][ids[0]]"
   ]
  }
 ],
 "metadata": {
  "kernelspec": {
   "display_name": "xSIT",
   "language": "python",
   "name": "xsit"
  },
  "language_info": {
   "codemirror_mode": {
    "name": "ipython",
    "version": 3
   },
   "file_extension": ".py",
   "mimetype": "text/x-python",
   "name": "python",
   "nbconvert_exporter": "python",
   "pygments_lexer": "ipython3",
   "version": "3.13.5"
  }
 },
 "nbformat": 4,
 "nbformat_minor": 5
}
